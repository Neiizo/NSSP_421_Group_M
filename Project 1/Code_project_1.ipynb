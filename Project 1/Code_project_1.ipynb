{
 "cells": [
  {
   "cell_type": "markdown",
   "metadata": {},
   "source": [
    "# Import cell\n",
    "Run the following cell to have all of the required package."
   ]
  },
  {
   "cell_type": "code",
   "execution_count": null,
   "metadata": {},
   "outputs": [],
   "source": [
    "import numpy as np\n",
    "from scipy.stats import gamma"
   ]
  },
  {
   "cell_type": "markdown",
   "metadata": {},
   "source": [
    "# Task 2\n",
    "Define the HRF. From course 2.1 slide 7, the HRF is the impulse response of $h_{\\delta}$, and from the project file, we have $ h_{\\gamma} = A ( \\frac{t^{\\alpha _1 -1} \\beta _1^{\\alpha_1} e^{\\beta _1 t} }{\\Gamma (\\alpha _1)} -c \\frac{t^{\\alpha _2 -1} \\beta _2^{\\alpha_2} e^{\\beta _2 t}}{\\Gamma (\\alpha _2)})$\n",
    "\n",
    "with $\\alpha_1 = 6$, $\\alpha_2 = 16$, $\\beta_1 = \\beta_2 = 1$ and $c=⅙$"
   ]
  },
  {
   "cell_type": "code",
   "execution_count": null,
   "metadata": {},
   "outputs": [],
   "source": [
    "\n",
    "    \n",
    "def h(A, gamma_1, gamma_2, t):\n",
    "    alpha_1 = 6\n",
    "    alpha_2 = 16\n",
    "    beta_1 = 1\n",
    "    beta_2 = 1\n",
    "    c = 1/6\n",
    "    \n",
    "    # h_part_1 =  (t^(alpha_1 - 1) * beta_1^alpha_1 * np.exp(beta_1)*t) / (gamma_1)\n",
    "    # h_part_2 = c*(t^(alpha_2 - 1) * beta_2^alpha_2 * np.exp(beta_2)*t) / (gamma_2)\n",
    "    h_part_1 = gamma.pdf(t, alpha_1, scale=1/beta_1)\n",
    "    h_part_2 = c * gamma.pdf(t, alpha_2, scale=1/beta_2)\n",
    "    h = A*(h_part_1 -h_part_2)\n",
    "    \n",
    "    \n",
    "    ### Do we already need A ? or should we try to change the value for a better fit, later on ?\n",
    "    return h"
   ]
  },
  {
   "cell_type": "markdown",
   "metadata": {},
   "source": []
  }
 ],
 "metadata": {
  "language_info": {
   "name": "python"
  }
 },
 "nbformat": 4,
 "nbformat_minor": 2
}
