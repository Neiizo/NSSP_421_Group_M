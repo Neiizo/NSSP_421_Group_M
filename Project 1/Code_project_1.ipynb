{
 "cells": [
  {
   "cell_type": "markdown",
   "metadata": {},
   "source": [
    "# Import cell\n",
    "Run the following cell to have all of the required package."
   ]
  },
  {
   "cell_type": "code",
   "execution_count": 1,
   "metadata": {},
   "outputs": [],
   "source": [
    "import numpy as np\n",
    "from scipy.stats import gamma\n",
    "import pandas as pd"
   ]
  },
  {
   "cell_type": "markdown",
   "metadata": {},
   "source": [
    "# Task 1 Generating the data"
   ]
  },
  {
   "cell_type": "code",
   "execution_count": 13,
   "metadata": {},
   "outputs": [],
   "source": [
    "# Create a date range with a 2-second frequency\n",
    "date_range = pd.date_range(start='00:00:00', end='00:20:00', freq='2S')\n",
    "\n",
    "# Create data to alternate between events\n",
    "events = ['Face', 'Visual Control', 'Idle']\n",
    "data = [events[i % 3] for i in range(len(date_range))]\n",
    "\n",
    "# Create the time series\n",
    "time_series = pd.Series(data, index=date_range)"
   ]
  },
  {
   "cell_type": "code",
   "execution_count": 14,
   "metadata": {},
   "outputs": [
    {
     "data": {
      "text/plain": [
       "2023-10-08 00:00:00              Face\n",
       "2023-10-08 00:00:02    Visual Control\n",
       "2023-10-08 00:00:04              Idle\n",
       "2023-10-08 00:00:06              Face\n",
       "2023-10-08 00:00:08    Visual Control\n",
       "                            ...      \n",
       "2023-10-08 00:19:52              Idle\n",
       "2023-10-08 00:19:54              Face\n",
       "2023-10-08 00:19:56    Visual Control\n",
       "2023-10-08 00:19:58              Idle\n",
       "2023-10-08 00:20:00              Face\n",
       "Freq: 2S, Length: 601, dtype: object"
      ]
     },
     "execution_count": 14,
     "metadata": {},
     "output_type": "execute_result"
    }
   ],
   "source": [
    "time_series"
   ]
  },
  {
   "cell_type": "markdown",
   "metadata": {},
   "source": [
    "# Task 2\n",
    "Define the HRF. From course 2.1 slide 7, the HRF is the impulse response of $h_{\\delta}$, and from the project file, we have $ h_{\\gamma} = A ( \\frac{t^{\\alpha _1 -1} \\beta _1^{\\alpha_1} e^{\\beta _1 t} }{\\Gamma (\\alpha _1)} -c \\frac{t^{\\alpha _2 -1} \\beta _2^{\\alpha_2} e^{\\beta _2 t}}{\\Gamma (\\alpha _2)})$\n",
    "\n",
    "with $\\alpha_1 = 6$, $\\alpha_2 = 16$, $\\beta_1 = \\beta_2 = 1$ and $c=⅙$"
   ]
  },
  {
   "cell_type": "code",
   "execution_count": null,
   "metadata": {},
   "outputs": [],
   "source": [
    "def h(A, t):\n",
    "    alpha_1 = 6\n",
    "    alpha_2 = 16\n",
    "    beta_1 = 1\n",
    "    beta_2 = 1\n",
    "    c = 1/6\n",
    "    \n",
    "    # h_part_1 =  (t^(alpha_1 - 1) * beta_1^alpha_1 * np.exp(beta_1)*t) / (gamma_1)\n",
    "    # h_part_2 = c*(t^(alpha_2 - 1) * beta_2^alpha_2 * np.exp(beta_2)*t) / (gamma_2)\n",
    "    h_part_1 = gamma.pdf(t, alpha_1, scale=1/beta_1)\n",
    "    h_part_2 = c * gamma.pdf(t, alpha_2, scale=1/beta_2)\n",
    "    h = A*(h_part_1 -h_part_2)\n",
    "    \n",
    "    \n",
    "    ### Do we already need A ? or should we try to change the value for a better fit, later on ?\n",
    "    return h"
   ]
  },
  {
   "cell_type": "markdown",
   "metadata": {},
   "source": []
  }
 ],
 "metadata": {
  "kernelspec": {
   "display_name": "base",
   "language": "python",
   "name": "python3"
  },
  "language_info": {
   "codemirror_mode": {
    "name": "ipython",
    "version": 3
   },
   "file_extension": ".py",
   "mimetype": "text/x-python",
   "name": "python",
   "nbconvert_exporter": "python",
   "pygments_lexer": "ipython3",
   "version": "3.9.18"
  }
 },
 "nbformat": 4,
 "nbformat_minor": 2
}
