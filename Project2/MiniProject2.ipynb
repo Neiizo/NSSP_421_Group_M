{
 "cells": [
  {
   "cell_type": "code",
   "execution_count": 1,
   "metadata": {},
   "outputs": [],
   "source": [
    "import nibabel as nib #pip install nibabel\n",
    "import numpy as np\n",
    "import matplotlib.pyplot as plt\n",
    "import pandas as pd"
   ]
  },
  {
   "cell_type": "markdown",
   "metadata": {},
   "source": [
    "https://openneuro.org/datasets/ds002322/versions/1.0.4  (alice)\n",
    "\n",
    "https://openneuro.org/datasets/ds002739/versions/1.0.0  (autre)"
   ]
  },
  {
   "cell_type": "code",
   "execution_count": 15,
   "metadata": {},
   "outputs": [],
   "source": [
    "import os.path as op\n",
    "# Useful imports to define the direct download function below\n",
    "import requests\n",
    "import urllib.request\n",
    "from tqdm import tqdm\n",
    "\n",
    "def mkdir_no_exist(path):\n",
    "    if not op.isdir(path):\n",
    "        os.makedirs(path)\n",
    "        \n",
    "class DownloadProgressBar(tqdm):\n",
    "    def update_to(self, b=1, bsize=1, tsize=None):\n",
    "        if tsize is not None:\n",
    "            self.total = tsize\n",
    "        self.update(b * bsize - self.n)\n",
    "\n",
    "\n",
    "def download_url(url, output_path):\n",
    "    with DownloadProgressBar(unit='B', unit_scale=True,\n",
    "                             miniters=1, desc=url.split('/')[-1]) as t:\n",
    "        urllib.request.urlretrieve(url, filename=output_path, reporthook=t.update_to)\n",
    "\n",
    "# def direct_file_download_open_neuro(file_list, file_types, dataset_id, dataset_version, save_dirs):\n",
    "def direct_file_download_open_neuro(sub_id, sub_id_number, dataset_id, dataset_version):\n",
    "    path = os. getcwd()\n",
    "    subject = 'sub-'+sub_id_number\n",
    "    # https://openneuro.org/crn/datasets/ds004226/snapshots/1.0.0/files/sub-001:sub-001_scans.tsv\n",
    "    func_path = op.join(path, 'sub_'+subject_fmap, 'func')\n",
    "    mkdir_no_exist(op.join(path, 'sub_'+subject_fmap))\n",
    "    mkdir_no_exist(func_path)\n",
    "    file_func = f'sub-{sub_id_number}_task-alice_bold.nii.gz'\n",
    "\n",
    "    anat_path = op.join(path, 'sub_'+subject_fmap, 'anat')\n",
    "    mkdir_no_exist(op.join(path, 'sub_'+subject_fmap))\n",
    "    mkdir_no_exist(anat_path)\n",
    "    file_anat = f'sub-{sub_id_number}_T1w.nii.gz'\n",
    "    \n",
    "    derivative_path = op.join(path, 'sub_'+subject_fmap, 'derivative')\n",
    "    mkdir_no_exist(op.join(path, 'sub_'+subject_fmap))\n",
    "    mkdir_no_exist(derivative_path)\n",
    "    file_derivative = f'sub-{sub_id_number}_task-alice_bold_preprocessed.nii.gz'\n",
    "    \n",
    "    download_link = 'https://openneuro.org/crn/datasets/{}/snapshots/{}/files/{}:{}:{}'.format(dataset_id, dataset_version, subject, 'func', file_func)\n",
    "    print('Attempting download from ', download_link)\n",
    "    download_url(download_link, op.join(func_path, file_func))\n",
    "    rint('Ok')\n",
    "    \n",
    "    download_link = 'https://openneuro.org/crn/datasets/{}/snapshots/{}/files/{}:{}:{}'.format(dataset_id, dataset_version, subject, 'anat', file_anat)\n",
    "    print('Attempting download from ', download_link)\n",
    "    download_url(download_link, op.join(anat_path, file_anat))\n",
    "    rint('Ok')\n",
    "    \n",
    "    download_link = 'https://openneuro.org/crn/datasets/{}/snapshots/{}/files/{}:{}:{}'.format(dataset_id, dataset_version, 'derivatives',subject, file_derivative)\n",
    "    print('Attempting download from ', download_link)\n",
    "    download_url(download_link, op.join(derivative_path, file_derivative))\n",
    "    rint('Ok')\n"
   ]
  },
  {
   "cell_type": "code",
   "execution_count": 16,
   "metadata": {},
   "outputs": [
    {
     "name": "stdout",
     "output_type": "stream",
     "text": [
      "Attempting download from  https://openneuro.org/crn/datasets/ds002322/snapshots/1.0.0/files/sub-18:func:sub-18_task-alice_bold.nii.gz\n"
     ]
    },
    {
     "name": "stderr",
     "output_type": "stream",
     "text": [
      "sub-18:func:sub-18_task-alice_bold.nii.gz: 105MB [00:05, 18.8MB/s]                              \n"
     ]
    },
    {
     "ename": "NameError",
     "evalue": "name 'rint' is not defined",
     "output_type": "error",
     "traceback": [
      "\u001b[0;31m---------------------------------------------------------------------------\u001b[0m",
      "\u001b[0;31mNameError\u001b[0m                                 Traceback (most recent call last)",
      "Cell \u001b[0;32mIn[16], line 7\u001b[0m\n\u001b[1;32m      3\u001b[0m subject_fmap \u001b[38;5;241m=\u001b[39m \u001b[38;5;124m'\u001b[39m\u001b[38;5;124m18\u001b[39m\u001b[38;5;124m'\u001b[39m \n\u001b[1;32m      5\u001b[0m \u001b[38;5;66;03m# Download one subject's data from each dataset\u001b[39;00m\n\u001b[0;32m----> 7\u001b[0m \u001b[43mdirect_file_download_open_neuro\u001b[49m\u001b[43m(\u001b[49m\u001b[43msub_id\u001b[49m\u001b[43m \u001b[49m\u001b[38;5;241;43m=\u001b[39;49m\u001b[43m \u001b[49m\u001b[38;5;124;43m'\u001b[39;49m\u001b[38;5;124;43msub_\u001b[39;49m\u001b[38;5;124;43m'\u001b[39;49m\u001b[38;5;241;43m+\u001b[39;49m\u001b[43msubject_fmap\u001b[49m\u001b[43m,\u001b[49m\u001b[43m \u001b[49m\n\u001b[1;32m      8\u001b[0m \u001b[43m                                \u001b[49m\u001b[43msub_id_number\u001b[49m\u001b[43m \u001b[49m\u001b[38;5;241;43m=\u001b[39;49m\u001b[43m \u001b[49m\u001b[43msubject_fmap\u001b[49m\u001b[43m,\u001b[49m\n\u001b[1;32m      9\u001b[0m \u001b[43m                                \u001b[49m\u001b[43mdataset_id\u001b[49m\u001b[43m \u001b[49m\u001b[38;5;241;43m=\u001b[39;49m\u001b[43m \u001b[49m\u001b[43mdataset_fmap\u001b[49m\u001b[43m,\u001b[49m\n\u001b[1;32m     10\u001b[0m \u001b[43m                                \u001b[49m\u001b[43mdataset_version\u001b[49m\u001b[38;5;241;43m=\u001b[39;49m\u001b[38;5;124;43m'\u001b[39;49m\u001b[38;5;124;43m1.0.0\u001b[39;49m\u001b[38;5;124;43m'\u001b[39;49m\u001b[43m)\u001b[49m\n\u001b[1;32m     12\u001b[0m \u001b[38;5;66;03m# direct_file_download_open_neuro(file_list=['sub-001_task-sitrep_run-04_events.tsv'], \u001b[39;00m\n\u001b[1;32m     13\u001b[0m \u001b[38;5;66;03m#                                 file_types=['func'], \u001b[39;00m\n\u001b[1;32m     14\u001b[0m \u001b[38;5;66;03m#                                 dataset_id=dataset_fmap, \u001b[39;00m\n\u001b[1;32m     15\u001b[0m \u001b[38;5;66;03m#                                 dataset_version='1.0.0', \u001b[39;00m\n\u001b[1;32m     16\u001b[0m \u001b[38;5;66;03m#                                 save_dirs=[func_path])\u001b[39;00m\n",
      "Cell \u001b[0;32mIn[15], line 46\u001b[0m, in \u001b[0;36mdirect_file_download_open_neuro\u001b[0;34m(sub_id, sub_id_number, dataset_id, dataset_version)\u001b[0m\n\u001b[1;32m     44\u001b[0m \u001b[38;5;28mprint\u001b[39m(\u001b[38;5;124m'\u001b[39m\u001b[38;5;124mAttempting download from \u001b[39m\u001b[38;5;124m'\u001b[39m, download_link)\n\u001b[1;32m     45\u001b[0m download_url(download_link, op\u001b[38;5;241m.\u001b[39mjoin(func_path, file_func))\n\u001b[0;32m---> 46\u001b[0m \u001b[43mrint\u001b[49m(\u001b[38;5;124m'\u001b[39m\u001b[38;5;124mOk\u001b[39m\u001b[38;5;124m'\u001b[39m)\n\u001b[1;32m     48\u001b[0m download_link \u001b[38;5;241m=\u001b[39m \u001b[38;5;124m'\u001b[39m\u001b[38;5;124mhttps://openneuro.org/crn/datasets/\u001b[39m\u001b[38;5;132;01m{}\u001b[39;00m\u001b[38;5;124m/snapshots/\u001b[39m\u001b[38;5;132;01m{}\u001b[39;00m\u001b[38;5;124m/files/\u001b[39m\u001b[38;5;132;01m{}\u001b[39;00m\u001b[38;5;124m:\u001b[39m\u001b[38;5;132;01m{}\u001b[39;00m\u001b[38;5;124m:\u001b[39m\u001b[38;5;132;01m{}\u001b[39;00m\u001b[38;5;124m'\u001b[39m\u001b[38;5;241m.\u001b[39mformat(dataset_id, dataset_version, subject, \u001b[38;5;124m'\u001b[39m\u001b[38;5;124manat\u001b[39m\u001b[38;5;124m'\u001b[39m, file_anat)\n\u001b[1;32m     49\u001b[0m \u001b[38;5;28mprint\u001b[39m(\u001b[38;5;124m'\u001b[39m\u001b[38;5;124mAttempting download from \u001b[39m\u001b[38;5;124m'\u001b[39m, download_link)\n",
      "\u001b[0;31mNameError\u001b[0m: name 'rint' is not defined"
     ]
    }
   ],
   "source": [
    "import os\n",
    "dataset_fmap = 'ds002322'\n",
    "subject_fmap = '18' \n",
    "\n",
    "# Download one subject's data from each dataset\n",
    "\n",
    "direct_file_download_open_neuro(sub_id = 'sub_'+subject_fmap, \n",
    "                                sub_id_number = subject_fmap,\n",
    "                                dataset_id = dataset_fmap,\n",
    "                                dataset_version='1.0.0')\n",
    "\n",
    "# direct_file_download_open_neuro(file_list=['sub-001_task-sitrep_run-04_events.tsv'], \n",
    "#                                 file_types=['func'], \n",
    "#                                 dataset_id=dataset_fmap, \n",
    "#                                 dataset_version='1.0.0', \n",
    "#                                 save_dirs=[func_path])"
   ]
  },
  {
   "cell_type": "code",
   "execution_count": null,
   "metadata": {},
   "outputs": [],
   "source": [
    "pd.read_csv(op.join(func_path, 'sub-001_task-sitrep_run-04_events.tsv'), sep='\\t')"
   ]
  },
  {
   "cell_type": "markdown",
   "metadata": {},
   "source": [
    "### Load the data\n"
   ]
  },
  {
   "cell_type": "code",
   "execution_count": 10,
   "metadata": {},
   "outputs": [],
   "source": [
    "#get current path\n",
    "import os\n",
    "current_ = os.getcwd()"
   ]
  },
  {
   "cell_type": "code",
   "execution_count": 11,
   "metadata": {},
   "outputs": [
    {
     "name": "stdout",
     "output_type": "stream",
     "text": [
      "(70, 70, 32, 771)\n"
     ]
    }
   ],
   "source": [
    "img = nib.load(current_ +'/func/sub-01_task-main_run-01_bold.nii')\n",
    "data = np.asanyarray(img.dataobj)\n",
    "print(data.shape)"
   ]
  },
  {
   "cell_type": "markdown",
   "metadata": {},
   "source": [
    "### Preprocess the data"
   ]
  },
  {
   "cell_type": "code",
   "execution_count": 12,
   "metadata": {},
   "outputs": [
    {
     "name": "stdout",
     "output_type": "stream",
     "text": [
      "(70, 70, 32) 771\n"
     ]
    }
   ],
   "source": [
    "vol_shape = data.shape[:-1]\n",
    "n_vols = data.shape[-1]\n",
    "print(vol_shape, n_vols)"
   ]
  },
  {
   "cell_type": "code",
   "execution_count": null,
   "metadata": {},
   "outputs": [],
   "source": [
    "#need the time axis -> the events data?"
   ]
  },
  {
   "cell_type": "code",
   "execution_count": null,
   "metadata": {},
   "outputs": [],
   "source": [
    "N = np.prod(vol_shape)\n",
    "\n",
    "#reshape in function of the time axis and take the transpose"
   ]
  },
  {
   "cell_type": "code",
   "execution_count": null,
   "metadata": {},
   "outputs": [],
   "source": [
    "#to get the PCA need the row means in a times_axis_shape x N\n",
    "# use np.outer(row_means, np.ones(N))\n",
    "\n",
    "#substract the mean from the time axis\n",
    "X = first_2 - row_means"
   ]
  },
  {
   "cell_type": "code",
   "execution_count": null,
   "metadata": {},
   "outputs": [],
   "source": [
    "#plot X[0] vs X[1] "
   ]
  },
  {
   "cell_type": "markdown",
   "metadata": {},
   "source": [
    "### PCA "
   ]
  },
  {
   "cell_type": "code",
   "execution_count": null,
   "metadata": {},
   "outputs": [],
   "source": [
    "# compute the covariance matrix\n",
    "covariance_matrix = X.dot(X.T)\n",
    "\n",
    "# Get the U, S, VT matrices\n",
    "U, S, VT = np.linalg.svd(covariance_matrix)"
   ]
  },
  {
   "cell_type": "code",
   "execution_count": null,
   "metadata": {},
   "outputs": [],
   "source": [
    "# plot the signal in the first row against \n",
    "#signal in the second row\n",
    "\n",
    "plt.plot(X[0], X[1], 'o')\n",
    "scaled_u = U[0, : ] * -4000\n",
    "plt.plot([0, scaled_u[0]], [0, scaled_u[1]], 'r')"
   ]
  },
  {
   "cell_type": "code",
   "execution_count": null,
   "metadata": {},
   "outputs": [],
   "source": [
    "# Scalar projection\n",
    "C = U.T.dot(first_two)\n",
    "\n",
    "C_vols = C.T.reshape(vol_shape + (2,))\n",
    "\n",
    "# break 4D array in 3D\n",
    "vol0 = C_vols[..., 0]\n",
    "vol1 = C_vols[..., 1]"
   ]
  },
  {
   "cell_type": "code",
   "execution_count": null,
   "metadata": {},
   "outputs": [],
   "source": [
    "plt.imshow(vol0[:, :, 10], cmap='gray')"
   ]
  },
  {
   "cell_type": "code",
   "execution_count": null,
   "metadata": {},
   "outputs": [],
   "source": [
    "plt.imshow(vol1[:, :, 10], cmap='gray')"
   ]
  },
  {
   "cell_type": "markdown",
   "metadata": {},
   "source": [
    "### Spatial & Temporal ICA"
   ]
  },
  {
   "cell_type": "code",
   "execution_count": null,
   "metadata": {},
   "outputs": [],
   "source": []
  },
  {
   "cell_type": "markdown",
   "metadata": {},
   "source": [
    "### Group ICA"
   ]
  },
  {
   "cell_type": "code",
   "execution_count": null,
   "metadata": {},
   "outputs": [],
   "source": [
    "#!! need contrast map and T1-weighted image to plot"
   ]
  },
  {
   "cell_type": "markdown",
   "metadata": {},
   "source": []
  }
 ],
 "metadata": {
  "kernelspec": {
   "display_name": "Python 3",
   "language": "python",
   "name": "python3"
  },
  "language_info": {
   "codemirror_mode": {
    "name": "ipython",
    "version": 3
   },
   "file_extension": ".py",
   "mimetype": "text/x-python",
   "name": "python",
   "nbconvert_exporter": "python",
   "pygments_lexer": "ipython3",
   "version": "3.9.18"
  }
 },
 "nbformat": 4,
 "nbformat_minor": 2
}
