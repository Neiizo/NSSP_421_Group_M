{
 "cells": [
  {
   "cell_type": "code",
   "execution_count": 1,
   "metadata": {},
   "outputs": [],
   "source": [
    "import nibabel as nib #pip install nibabel\n",
    "import numpy as np\n",
    "import matplotlib.pyplot as plt\n",
    "#https://openneuro.org/datasets/ds002739/versions/1.0.0"
   ]
  },
  {
   "cell_type": "markdown",
   "metadata": {},
   "source": [
    "### Load the data\n"
   ]
  },
  {
   "cell_type": "code",
   "execution_count": 2,
   "metadata": {},
   "outputs": [],
   "source": [
    "#get current path\n",
    "import os\n",
    "current_ = os.getcwd()"
   ]
  },
  {
   "cell_type": "code",
   "execution_count": 7,
   "metadata": {},
   "outputs": [
    {
     "name": "stdout",
     "output_type": "stream",
     "text": [
      "(70, 70, 32, 771)\n"
     ]
    }
   ],
   "source": [
    "img = nib.load(current_ +'/sub-01_task-main_run-01_bold.nii')\n",
    "data = np.asanyarray(img.dataobj)\n",
    "print(data.shape)"
   ]
  },
  {
   "cell_type": "markdown",
   "metadata": {},
   "source": [
    "### Preprocess the data"
   ]
  },
  {
   "cell_type": "code",
   "execution_count": 8,
   "metadata": {},
   "outputs": [
    {
     "name": "stdout",
     "output_type": "stream",
     "text": [
      "(70, 70, 32) 771\n"
     ]
    }
   ],
   "source": [
    "vol_shape = data.shape[:-1]\n",
    "n_vols = data.shape[-1]\n",
    "print(vol_shape, n_vols)"
   ]
  },
  {
   "cell_type": "code",
   "execution_count": null,
   "metadata": {},
   "outputs": [],
   "source": [
    "#need the time axis -> the events data?"
   ]
  },
  {
   "cell_type": "code",
   "execution_count": null,
   "metadata": {},
   "outputs": [],
   "source": [
    "N = np.prod(vol_shape)\n",
    "\n",
    "#reshape in function of the time axis and take the transpose"
   ]
  },
  {
   "cell_type": "code",
   "execution_count": null,
   "metadata": {},
   "outputs": [],
   "source": [
    "#to get the PCA need the row means in a times_axis_shape x N\n",
    "# use np.outer(row_means, np.ones(N))\n",
    "\n",
    "#substract the mean from the time axis\n",
    "X = first_2 - row_means"
   ]
  },
  {
   "cell_type": "code",
   "execution_count": null,
   "metadata": {},
   "outputs": [],
   "source": [
    "#plot X[0] vs X[1] "
   ]
  },
  {
   "cell_type": "markdown",
   "metadata": {},
   "source": [
    "### PCA "
   ]
  },
  {
   "cell_type": "code",
   "execution_count": null,
   "metadata": {},
   "outputs": [],
   "source": [
    "# compute the covariance matrix\n",
    "covariance_matrix = X.dot(X.T)\n",
    "\n",
    "# Get the U, S, VT matrices\n",
    "U, S, VT = np.linalg.svd(covariance_matrix)"
   ]
  },
  {
   "cell_type": "code",
   "execution_count": null,
   "metadata": {},
   "outputs": [],
   "source": [
    "# plot the signal in the first row against \n",
    "#signal in the second row\n",
    "\n",
    "plt.plot(X[0], X[1], 'o')\n",
    "scaled_u = U[0, : ] * -4000\n",
    "plt.plot([0, scaled_u[0]], [0, scaled_u[1]], 'r')"
   ]
  },
  {
   "cell_type": "code",
   "execution_count": null,
   "metadata": {},
   "outputs": [],
   "source": [
    "# Scalar projection\n",
    "C = U.T.dot(first_two)\n",
    "\n",
    "C_vols = C.T.reshape(vol_shape + (2,))\n",
    "\n",
    "# break 4D array in 3D\n",
    "vol0 = C_vols[..., 0]\n",
    "vol1 = C_vols[..., 1]"
   ]
  },
  {
   "cell_type": "code",
   "execution_count": null,
   "metadata": {},
   "outputs": [],
   "source": [
    "plt.imshow(vol0[:, :, 10], cmap='gray')"
   ]
  },
  {
   "cell_type": "code",
   "execution_count": null,
   "metadata": {},
   "outputs": [],
   "source": [
    "plt.imshow(vol1[:, :, 10], cmap='gray')"
   ]
  },
  {
   "cell_type": "markdown",
   "metadata": {},
   "source": [
    "### Spatial & Temporal ICA"
   ]
  },
  {
   "cell_type": "code",
   "execution_count": null,
   "metadata": {},
   "outputs": [],
   "source": []
  },
  {
   "cell_type": "markdown",
   "metadata": {},
   "source": [
    "### Group ICA"
   ]
  },
  {
   "cell_type": "code",
   "execution_count": null,
   "metadata": {},
   "outputs": [],
   "source": [
    "#!! need contrast map and T1-weighted image to plot"
   ]
  },
  {
   "cell_type": "markdown",
   "metadata": {},
   "source": []
  }
 ],
 "metadata": {
  "kernelspec": {
   "display_name": "base",
   "language": "python",
   "name": "python3"
  },
  "language_info": {
   "codemirror_mode": {
    "name": "ipython",
    "version": 3
   },
   "file_extension": ".py",
   "mimetype": "text/x-python",
   "name": "python",
   "nbconvert_exporter": "python",
   "pygments_lexer": "ipython3",
   "version": "3.9.18"
  }
 },
 "nbformat": 4,
 "nbformat_minor": 2
}
