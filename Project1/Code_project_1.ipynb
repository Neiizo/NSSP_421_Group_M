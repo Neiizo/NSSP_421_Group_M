{
 "cells": [
  {
   "cell_type": "markdown",
   "metadata": {},
   "source": [
    "# Import cell\n",
    "Run the following cell to have all of the required package."
   ]
  },
  {
   "cell_type": "code",
   "execution_count": 16,
   "metadata": {},
   "outputs": [],
   "source": [
    "import numpy as np\n",
    "import matplotlib.pyplot as plt\n",
    "from scipy.stats import gamma\n",
    "import pandas as pd\n",
    "from datetime import timedelta\n",
    "\n",
    "%matplotlib inline"
   ]
  },
  {
   "cell_type": "markdown",
   "metadata": {},
   "source": [
    "# Task 1 Generating the data"
   ]
  },
  {
   "cell_type": "code",
   "execution_count": 10,
   "metadata": {},
   "outputs": [],
   "source": [
    "# General variables\n",
    "duration_time = 20 # in min\n",
    "TR = 2 # in sec\n",
    "time_between_events = 10 # in sec\n",
    "\n",
    "# Set by donnée\n",
    "time_stimulus = 2 # sec\n",
    "\n",
    "start = pd.to_datetime('00:00:00')\n",
    "\n",
    "# Create a date range with a 2-second frequency\n",
    "date_range = pd.date_range(start=start, end=start+timedelta(minutes=duration_time), freq=str(TR)+'S')\n",
    "\n",
    "# Create data to alternate between events\n",
    "time_events = pd.date_range(start=start, end=start+timedelta(minutes=duration_time), freq=str(time_between_events)+'S')\n",
    "events = ['Face', 'Control']\n",
    "list_events = [[events[i % len(events)]] for i in range(len(time_events))]\n",
    "events_df = pd.DataFrame(data=list_events, index=time_events, columns=[\"Events\"])\n",
    "\n",
    "\n",
    "signal = np.zeros(len(date_range))\n",
    "signal = pd.DataFrame(data=signal, index=date_range, columns=[\"Signal\"])"
   ]
  },
  {
   "cell_type": "code",
   "execution_count": 11,
   "metadata": {},
   "outputs": [
    {
     "data": {
      "text/html": [
       "<div>\n",
       "<style scoped>\n",
       "    .dataframe tbody tr th:only-of-type {\n",
       "        vertical-align: middle;\n",
       "    }\n",
       "\n",
       "    .dataframe tbody tr th {\n",
       "        vertical-align: top;\n",
       "    }\n",
       "\n",
       "    .dataframe thead th {\n",
       "        text-align: right;\n",
       "    }\n",
       "</style>\n",
       "<table border=\"1\" class=\"dataframe\">\n",
       "  <thead>\n",
       "    <tr style=\"text-align: right;\">\n",
       "      <th></th>\n",
       "      <th>Signal</th>\n",
       "      <th>Events</th>\n",
       "    </tr>\n",
       "  </thead>\n",
       "  <tbody>\n",
       "    <tr>\n",
       "      <th>2023-10-09 00:00:00</th>\n",
       "      <td>2.0</td>\n",
       "      <td>Face</td>\n",
       "    </tr>\n",
       "    <tr>\n",
       "      <th>2023-10-09 00:00:02</th>\n",
       "      <td>0.0</td>\n",
       "      <td>Idle</td>\n",
       "    </tr>\n",
       "    <tr>\n",
       "      <th>2023-10-09 00:00:04</th>\n",
       "      <td>0.0</td>\n",
       "      <td>Idle</td>\n",
       "    </tr>\n",
       "    <tr>\n",
       "      <th>2023-10-09 00:00:06</th>\n",
       "      <td>0.0</td>\n",
       "      <td>Idle</td>\n",
       "    </tr>\n",
       "    <tr>\n",
       "      <th>2023-10-09 00:00:08</th>\n",
       "      <td>0.0</td>\n",
       "      <td>Idle</td>\n",
       "    </tr>\n",
       "    <tr>\n",
       "      <th>2023-10-09 00:00:10</th>\n",
       "      <td>1.0</td>\n",
       "      <td>Control</td>\n",
       "    </tr>\n",
       "    <tr>\n",
       "      <th>2023-10-09 00:00:12</th>\n",
       "      <td>0.0</td>\n",
       "      <td>Idle</td>\n",
       "    </tr>\n",
       "    <tr>\n",
       "      <th>2023-10-09 00:00:14</th>\n",
       "      <td>0.0</td>\n",
       "      <td>Idle</td>\n",
       "    </tr>\n",
       "    <tr>\n",
       "      <th>2023-10-09 00:00:16</th>\n",
       "      <td>0.0</td>\n",
       "      <td>Idle</td>\n",
       "    </tr>\n",
       "    <tr>\n",
       "      <th>2023-10-09 00:00:18</th>\n",
       "      <td>0.0</td>\n",
       "      <td>Idle</td>\n",
       "    </tr>\n",
       "    <tr>\n",
       "      <th>2023-10-09 00:00:20</th>\n",
       "      <td>2.0</td>\n",
       "      <td>Face</td>\n",
       "    </tr>\n",
       "    <tr>\n",
       "      <th>2023-10-09 00:00:22</th>\n",
       "      <td>0.0</td>\n",
       "      <td>Idle</td>\n",
       "    </tr>\n",
       "    <tr>\n",
       "      <th>2023-10-09 00:00:24</th>\n",
       "      <td>0.0</td>\n",
       "      <td>Idle</td>\n",
       "    </tr>\n",
       "    <tr>\n",
       "      <th>2023-10-09 00:00:26</th>\n",
       "      <td>0.0</td>\n",
       "      <td>Idle</td>\n",
       "    </tr>\n",
       "    <tr>\n",
       "      <th>2023-10-09 00:00:28</th>\n",
       "      <td>0.0</td>\n",
       "      <td>Idle</td>\n",
       "    </tr>\n",
       "    <tr>\n",
       "      <th>2023-10-09 00:00:30</th>\n",
       "      <td>1.0</td>\n",
       "      <td>Control</td>\n",
       "    </tr>\n",
       "    <tr>\n",
       "      <th>2023-10-09 00:00:32</th>\n",
       "      <td>0.0</td>\n",
       "      <td>Idle</td>\n",
       "    </tr>\n",
       "    <tr>\n",
       "      <th>2023-10-09 00:00:34</th>\n",
       "      <td>0.0</td>\n",
       "      <td>Idle</td>\n",
       "    </tr>\n",
       "    <tr>\n",
       "      <th>2023-10-09 00:00:36</th>\n",
       "      <td>0.0</td>\n",
       "      <td>Idle</td>\n",
       "    </tr>\n",
       "    <tr>\n",
       "      <th>2023-10-09 00:00:38</th>\n",
       "      <td>0.0</td>\n",
       "      <td>Idle</td>\n",
       "    </tr>\n",
       "  </tbody>\n",
       "</table>\n",
       "</div>"
      ],
      "text/plain": [
       "                     Signal   Events\n",
       "2023-10-09 00:00:00     2.0     Face\n",
       "2023-10-09 00:00:02     0.0     Idle\n",
       "2023-10-09 00:00:04     0.0     Idle\n",
       "2023-10-09 00:00:06     0.0     Idle\n",
       "2023-10-09 00:00:08     0.0     Idle\n",
       "2023-10-09 00:00:10     1.0  Control\n",
       "2023-10-09 00:00:12     0.0     Idle\n",
       "2023-10-09 00:00:14     0.0     Idle\n",
       "2023-10-09 00:00:16     0.0     Idle\n",
       "2023-10-09 00:00:18     0.0     Idle\n",
       "2023-10-09 00:00:20     2.0     Face\n",
       "2023-10-09 00:00:22     0.0     Idle\n",
       "2023-10-09 00:00:24     0.0     Idle\n",
       "2023-10-09 00:00:26     0.0     Idle\n",
       "2023-10-09 00:00:28     0.0     Idle\n",
       "2023-10-09 00:00:30     1.0  Control\n",
       "2023-10-09 00:00:32     0.0     Idle\n",
       "2023-10-09 00:00:34     0.0     Idle\n",
       "2023-10-09 00:00:36     0.0     Idle\n",
       "2023-10-09 00:00:38     0.0     Idle"
      ]
     },
     "execution_count": 11,
     "metadata": {},
     "output_type": "execute_result"
    }
   ],
   "source": [
    "data = pd.concat([signal, events_df], axis=1)\n",
    "\n",
    "data.loc[data[\"Events\"] == \"Face\", \"Signal\"] = 2\n",
    "data.loc[data[\"Events\"] == \"Control\", \"Signal\"] = 1\n",
    "data.loc[data[\"Events\"].isnull(), \"Events\"] = \"Idle\"\n",
    "\n",
    "data.head(20)"
   ]
  },
  {
   "cell_type": "code",
   "execution_count": 18,
   "metadata": {},
   "outputs": [
    {
     "data": {
      "text/plain": [
       "Text(0, 0.5, 'Signal')"
      ]
     },
     "execution_count": 18,
     "metadata": {},
     "output_type": "execute_result"
    },
    {
     "data": {
      "image/png": "[encoded data removed]",
      "text/plain": [
       "<Figure size 640x480 with 1 Axes>"
      ]
     },
     "metadata": {},
     "output_type": "display_data"
    }
   ],
   "source": [
    "data.plot()\n",
    "plt.title(\"Simulated voxel following stimuli\")\n",
    "plt.xlabel(\"Time\")\n",
    "plt.ylabel(\"Signal\")"
   ]
  },
  {
   "cell_type": "markdown",
   "metadata": {},
   "source": [
    "# Task 2\n",
    "Define the HRF. From course 2.1 slide 7, the HRF is the impulse response of $h_{\\delta}$, and from the project file, we have $ h_{\\gamma} = A ( \\frac{t^{\\alpha _1 -1} \\beta _1^{\\alpha_1} e^{\\beta _1 t} }{\\Gamma (\\alpha _1)} -c \\frac{t^{\\alpha _2 -1} \\beta _2^{\\alpha_2} e^{\\beta _2 t}}{\\Gamma (\\alpha _2)})$\n",
    "\n",
    "with $\\alpha_1 = 6$, $\\alpha_2 = 16$, $\\beta_1 = \\beta_2 = 1$ and $c=⅙$"
   ]
  },
  {
   "cell_type": "code",
   "execution_count": 4,
   "metadata": {},
   "outputs": [],
   "source": [
    "def h(A, t):\n",
    "    alpha_1 = 6\n",
    "    alpha_2 = 16\n",
    "    beta_1 = 1\n",
    "    beta_2 = 1\n",
    "    c = 1/6\n",
    "    \n",
    "    # h_part_1 =  (t^(alpha_1 - 1) * beta_1^alpha_1 * np.exp(beta_1)*t) / (gamma_1)\n",
    "    # h_part_2 = c*(t^(alpha_2 - 1) * beta_2^alpha_2 * np.exp(beta_2)*t) / (gamma_2)\n",
    "    h_part_1 = gamma.pdf(t, alpha_1, scale=1/beta_1)\n",
    "    h_part_2 = c * gamma.pdf(t, alpha_2, scale=1/beta_2)\n",
    "    h = A*(h_part_1 -h_part_2)\n",
    "    \n",
    "    \n",
    "    ### Do we already need A ? or should we try to change the value for a better fit, later on ?\n",
    "    return h"
   ]
  },
  {
   "cell_type": "markdown",
   "metadata": {},
   "source": []
  },
  {
   "cell_type": "markdown",
   "metadata": {},
   "source": [
    "# Attempt to task 9"
   ]
  },
  {
   "cell_type": "code",
   "execution_count": 9,
   "metadata": {},
   "outputs": [],
   "source": [
    "import os\n",
    "import os.path as op\n",
    "import glob\n",
    "import pandas as pd\n",
    "import numpy as np\n",
    "import json\n",
    "\n",
    "\n",
    "# Useful functions to define and import datasets from open neuro\n",
    "import openneuro\n",
    "from mne.datasets import sample\n",
    "from mne_bids import BIDSPath, read_raw_bids, print_dir_tree, make_report\n",
    "\n",
    "\n",
    "# Useful imports to define the direct download function below\n",
    "import requests\n",
    "import urllib.request\n",
    "from tqdm import tqdm\n",
    "\n",
    "def reset_overlays():\n",
    "    \"\"\"\n",
    "    Clears view and completely remove visualization. All files opened in FSLeyes are closed.\n",
    "    The view (along with any color map) is reset to the regular ortho panel.\n",
    "    \"\"\"\n",
    "    l = frame.overlayList\n",
    "    while(len(l)>0):\n",
    "        del l[0]\n",
    "    frame.removeViewPanel(frame.viewPanels[0])\n",
    "    # Put back an ortho panel in our viz for future displays\n",
    "    frame.addViewPanel(OrthoPanel)\n",
    "    \n",
    "def mkdir_no_exist(path):\n",
    "    if not op.isdir(path):\n",
    "        os.makedirs(path)\n",
    "        \n",
    "class DownloadProgressBar(tqdm):\n",
    "    def update_to(self, b=1, bsize=1, tsize=None):\n",
    "        if tsize is not None:\n",
    "            self.total = tsize\n",
    "        self.update(b * bsize - self.n)\n",
    "\n",
    "def download_url(url, output_path):\n",
    "    with DownloadProgressBar(unit='B', unit_scale=True,\n",
    "                             miniters=1, desc=url.split('/')[-1]) as t:\n",
    "        urllib.request.urlretrieve(url, filename=output_path, reporthook=t.update_to)\n",
    "\n",
    "def direct_file_download_open_neuro(file_list, file_types, dataset_id, dataset_version, save_dirs):\n",
    "    # https://openneuro.org/crn/datasets/ds004226/snapshots/1.0.0/files/sub-001:sub-001_scans.tsv\n",
    "    for i, n in enumerate(file_list):\n",
    "        subject = n.split('_')[0]\n",
    "        download_link = 'https://openneuro.org/crn/datasets/{}/snapshots/{}/files/{}:{}:{}'.format(dataset_id, dataset_version, subject, file_types[i],n)\n",
    "        print('Attempting download from ', download_link)\n",
    "        download_url(download_link, op.join(save_dirs[i], n))\n",
    "        print('Ok')"
   ]
  },
  {
   "cell_type": "code",
   "execution_count": 10,
   "metadata": {},
   "outputs": [],
   "source": [
    "# Create directories\n",
    "sample_path = \"dataset\"\n",
    "dataset_id = 'ds000105'\n",
    "subject = '1'\n",
    "\n",
    "mkdir_no_exist(sample_path)\n",
    "bids_root = op.join(os.path.abspath(\"\"),sample_path, dataset_id)\n",
    "deriv_root = op.join(bids_root, 'derivatives')\n",
    "preproc_root = op.join(bids_root, 'derivatives','preprocessed_data')\n",
    "\n",
    "mkdir_no_exist(bids_root)"
   ]
  },
  {
   "cell_type": "code",
   "execution_count": 7,
   "metadata": {},
   "outputs": [
    {
     "data": {
      "text/plain": [
       "0"
      ]
     },
     "execution_count": 7,
     "metadata": {},
     "output_type": "execute_result"
    }
   ],
   "source": [
    "os.system(\"\"\"openneuro-py download --dataset {} --include sub-{}/anat/* \n",
    "          --include sub-{}/func/sub-{}_task-objectviewing_run-01_bold.nii.gz \n",
    "          --include sub-{}/func/sub-{}_task-objectviewing_run-01_events.tsv\n",
    "          --target_dir {}\"\"\".format(dataset_id, subject, subject, subject, subject, subject, bids_root).replace(\"\\n\", \" \"))"
   ]
  },
  {
   "cell_type": "code",
   "execution_count": 12,
   "metadata": {},
   "outputs": [
    {
     "data": {
      "text/plain": [
       "Image(sub-1_task-objectviewing_run-01_bold, /home/mbricq/Desktop/MyFiles/NX-421/NSSP_421_Group_M/Project1/dataset/ds000105/sub-1/func/sub-1_task-objectviewing_run-01_bold.nii.gz)"
      ]
     },
     "execution_count": 12,
     "metadata": {},
     "output_type": "execute_result"
    }
   ],
   "source": [
    "reset_overlays()\n",
    "load(op.join(bids_root, 'sub-1', 'func', 'sub-1_task-objectviewing_run-01_bold.nii.gz'))"
   ]
  },
  {
   "cell_type": "code",
   "execution_count": 13,
   "metadata": {},
   "outputs": [],
   "source": [
    "events_sub1 = pd.read_csv(op.join(bids_root, 'sub-1', 'func', 'sub-1_task-objectviewing_run-01_events.tsv'), sep='\\t')"
   ]
  },
  {
   "cell_type": "code",
   "execution_count": 20,
   "metadata": {},
   "outputs": [
    {
     "data": {
      "text/html": [
       "<div>\n",
       "<style scoped>\n",
       "    .dataframe tbody tr th:only-of-type {\n",
       "        vertical-align: middle;\n",
       "    }\n",
       "\n",
       "    .dataframe tbody tr th {\n",
       "        vertical-align: top;\n",
       "    }\n",
       "\n",
       "    .dataframe thead th {\n",
       "        text-align: right;\n",
       "    }\n",
       "</style>\n",
       "<table border=\"1\" class=\"dataframe\">\n",
       "  <thead>\n",
       "    <tr style=\"text-align: right;\">\n",
       "      <th></th>\n",
       "      <th>onset</th>\n",
       "      <th>duration</th>\n",
       "      <th>trial_type</th>\n",
       "    </tr>\n",
       "  </thead>\n",
       "  <tbody>\n",
       "    <tr>\n",
       "      <th>0</th>\n",
       "      <td>12.0</td>\n",
       "      <td>0.5</td>\n",
       "      <td>scissors</td>\n",
       "    </tr>\n",
       "    <tr>\n",
       "      <th>1</th>\n",
       "      <td>14.0</td>\n",
       "      <td>0.5</td>\n",
       "      <td>scissors</td>\n",
       "    </tr>\n",
       "    <tr>\n",
       "      <th>2</th>\n",
       "      <td>16.0</td>\n",
       "      <td>0.5</td>\n",
       "      <td>scissors</td>\n",
       "    </tr>\n",
       "    <tr>\n",
       "      <th>3</th>\n",
       "      <td>18.0</td>\n",
       "      <td>0.5</td>\n",
       "      <td>scissors</td>\n",
       "    </tr>\n",
       "    <tr>\n",
       "      <th>4</th>\n",
       "      <td>20.0</td>\n",
       "      <td>0.5</td>\n",
       "      <td>scissors</td>\n",
       "    </tr>\n",
       "    <tr>\n",
       "      <th>...</th>\n",
       "      <td>...</td>\n",
       "      <td>...</td>\n",
       "      <td>...</td>\n",
       "    </tr>\n",
       "    <tr>\n",
       "      <th>91</th>\n",
       "      <td>278.0</td>\n",
       "      <td>0.5</td>\n",
       "      <td>chair</td>\n",
       "    </tr>\n",
       "    <tr>\n",
       "      <th>92</th>\n",
       "      <td>280.0</td>\n",
       "      <td>0.5</td>\n",
       "      <td>chair</td>\n",
       "    </tr>\n",
       "    <tr>\n",
       "      <th>93</th>\n",
       "      <td>282.0</td>\n",
       "      <td>0.5</td>\n",
       "      <td>chair</td>\n",
       "    </tr>\n",
       "    <tr>\n",
       "      <th>94</th>\n",
       "      <td>284.0</td>\n",
       "      <td>0.5</td>\n",
       "      <td>chair</td>\n",
       "    </tr>\n",
       "    <tr>\n",
       "      <th>95</th>\n",
       "      <td>286.0</td>\n",
       "      <td>0.5</td>\n",
       "      <td>chair</td>\n",
       "    </tr>\n",
       "  </tbody>\n",
       "</table>\n",
       "<p>96 rows × 3 columns</p>\n",
       "</div>"
      ],
      "text/plain": [
       "    onset  duration trial_type\n",
       "0    12.0       0.5   scissors\n",
       "1    14.0       0.5   scissors\n",
       "2    16.0       0.5   scissors\n",
       "3    18.0       0.5   scissors\n",
       "4    20.0       0.5   scissors\n",
       "..    ...       ...        ...\n",
       "91  278.0       0.5      chair\n",
       "92  280.0       0.5      chair\n",
       "93  282.0       0.5      chair\n",
       "94  284.0       0.5      chair\n",
       "95  286.0       0.5      chair\n",
       "\n",
       "[96 rows x 3 columns]"
      ]
     },
     "execution_count": 20,
     "metadata": {},
     "output_type": "execute_result"
    }
   ],
   "source": [
    "events_sub1"
   ]
  },
  {
   "cell_type": "code",
   "execution_count": null,
   "metadata": {},
   "outputs": [],
   "source": []
  }
 ],
 "metadata": {
  "kernelspec": {
   "display_name": "Python 3",
   "language": "python",
   "name": "python3"
  },
  "language_info": {
   "codemirror_mode": {
    "name": "ipython",
    "version": 3
   },
   "file_extension": ".py",
   "mimetype": "text/x-python",
   "name": "python",
   "nbconvert_exporter": "python",
   "pygments_lexer": "ipython3",
   "version": "3.9.18"
  }
 },
 "nbformat": 4,
 "nbformat_minor": 2
}
